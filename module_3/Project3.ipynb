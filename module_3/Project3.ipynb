{
 "cells": [
  {
   "cell_type": "markdown",
   "metadata": {},
   "source": [
    "# Загрузка Pandas и очистка данных"
   ]
  },
  {
   "cell_type": "code",
   "execution_count": 1,
   "metadata": {},
   "outputs": [],
   "source": [
    "import pandas as pd\n",
    "import datetime\n",
    "from datetime import datetime\n",
    "import re\n",
    "import numpy as np"
   ]
  },
  {
   "cell_type": "code",
   "execution_count": 2,
   "metadata": {},
   "outputs": [],
   "source": [
    "data = pd.read_csv('main_task_new.csv')"
   ]
  },
  {
   "cell_type": "code",
   "execution_count": 3,
   "metadata": {},
   "outputs": [
    {
     "data": {
      "text/html": [
       "<div>\n",
       "<style scoped>\n",
       "    .dataframe tbody tr th:only-of-type {\n",
       "        vertical-align: middle;\n",
       "    }\n",
       "\n",
       "    .dataframe tbody tr th {\n",
       "        vertical-align: top;\n",
       "    }\n",
       "\n",
       "    .dataframe thead th {\n",
       "        text-align: right;\n",
       "    }\n",
       "</style>\n",
       "<table border=\"1\" class=\"dataframe\">\n",
       "  <thead>\n",
       "    <tr style=\"text-align: right;\">\n",
       "      <th></th>\n",
       "      <th>Restaurant_id</th>\n",
       "      <th>City</th>\n",
       "      <th>Cuisine Style</th>\n",
       "      <th>Ranking</th>\n",
       "      <th>Rating</th>\n",
       "      <th>Price Range</th>\n",
       "      <th>Number of Reviews</th>\n",
       "      <th>Reviews</th>\n",
       "      <th>URL_TA</th>\n",
       "      <th>ID_TA</th>\n",
       "    </tr>\n",
       "  </thead>\n",
       "  <tbody>\n",
       "    <tr>\n",
       "      <th>0</th>\n",
       "      <td>id_5569</td>\n",
       "      <td>Paris</td>\n",
       "      <td>['European', 'French', 'International']</td>\n",
       "      <td>5570.0</td>\n",
       "      <td>3.5</td>\n",
       "      <td>$$ - $$$</td>\n",
       "      <td>194.0</td>\n",
       "      <td>[['Good food at your doorstep', 'A good hotel ...</td>\n",
       "      <td>/Restaurant_Review-g187147-d1912643-Reviews-R_...</td>\n",
       "      <td>d1912643</td>\n",
       "    </tr>\n",
       "    <tr>\n",
       "      <th>1</th>\n",
       "      <td>id_1535</td>\n",
       "      <td>Stockholm</td>\n",
       "      <td>NaN</td>\n",
       "      <td>1537.0</td>\n",
       "      <td>4.0</td>\n",
       "      <td>NaN</td>\n",
       "      <td>10.0</td>\n",
       "      <td>[['Unique cuisine', 'Delicious Nepalese food']...</td>\n",
       "      <td>/Restaurant_Review-g189852-d7992032-Reviews-Bu...</td>\n",
       "      <td>d7992032</td>\n",
       "    </tr>\n",
       "    <tr>\n",
       "      <th>2</th>\n",
       "      <td>id_352</td>\n",
       "      <td>London</td>\n",
       "      <td>['Japanese', 'Sushi', 'Asian', 'Grill', 'Veget...</td>\n",
       "      <td>353.0</td>\n",
       "      <td>4.5</td>\n",
       "      <td>$$$$</td>\n",
       "      <td>688.0</td>\n",
       "      <td>[['Catch up with friends', 'Not exceptional'],...</td>\n",
       "      <td>/Restaurant_Review-g186338-d8632781-Reviews-RO...</td>\n",
       "      <td>d8632781</td>\n",
       "    </tr>\n",
       "    <tr>\n",
       "      <th>3</th>\n",
       "      <td>id_3456</td>\n",
       "      <td>Berlin</td>\n",
       "      <td>NaN</td>\n",
       "      <td>3458.0</td>\n",
       "      <td>5.0</td>\n",
       "      <td>NaN</td>\n",
       "      <td>3.0</td>\n",
       "      <td>[[], []]</td>\n",
       "      <td>/Restaurant_Review-g187323-d1358776-Reviews-Es...</td>\n",
       "      <td>d1358776</td>\n",
       "    </tr>\n",
       "    <tr>\n",
       "      <th>4</th>\n",
       "      <td>id_615</td>\n",
       "      <td>Munich</td>\n",
       "      <td>['German', 'Central European', 'Vegetarian Fri...</td>\n",
       "      <td>621.0</td>\n",
       "      <td>4.0</td>\n",
       "      <td>$$ - $$$</td>\n",
       "      <td>84.0</td>\n",
       "      <td>[['Best place to try a Bavarian food', 'Nice b...</td>\n",
       "      <td>/Restaurant_Review-g187309-d6864963-Reviews-Au...</td>\n",
       "      <td>d6864963</td>\n",
       "    </tr>\n",
       "  </tbody>\n",
       "</table>\n",
       "</div>"
      ],
      "text/plain": [
       "  Restaurant_id       City                                      Cuisine Style  \\\n",
       "0       id_5569      Paris            ['European', 'French', 'International']   \n",
       "1       id_1535  Stockholm                                                NaN   \n",
       "2        id_352     London  ['Japanese', 'Sushi', 'Asian', 'Grill', 'Veget...   \n",
       "3       id_3456     Berlin                                                NaN   \n",
       "4        id_615     Munich  ['German', 'Central European', 'Vegetarian Fri...   \n",
       "\n",
       "   Ranking  Rating Price Range  Number of Reviews  \\\n",
       "0   5570.0     3.5    $$ - $$$              194.0   \n",
       "1   1537.0     4.0         NaN               10.0   \n",
       "2    353.0     4.5        $$$$              688.0   \n",
       "3   3458.0     5.0         NaN                3.0   \n",
       "4    621.0     4.0    $$ - $$$               84.0   \n",
       "\n",
       "                                             Reviews  \\\n",
       "0  [['Good food at your doorstep', 'A good hotel ...   \n",
       "1  [['Unique cuisine', 'Delicious Nepalese food']...   \n",
       "2  [['Catch up with friends', 'Not exceptional'],...   \n",
       "3                                           [[], []]   \n",
       "4  [['Best place to try a Bavarian food', 'Nice b...   \n",
       "\n",
       "                                              URL_TA     ID_TA  \n",
       "0  /Restaurant_Review-g187147-d1912643-Reviews-R_...  d1912643  \n",
       "1  /Restaurant_Review-g189852-d7992032-Reviews-Bu...  d7992032  \n",
       "2  /Restaurant_Review-g186338-d8632781-Reviews-RO...  d8632781  \n",
       "3  /Restaurant_Review-g187323-d1358776-Reviews-Es...  d1358776  \n",
       "4  /Restaurant_Review-g187309-d6864963-Reviews-Au...  d6864963  "
      ]
     },
     "execution_count": 3,
     "metadata": {},
     "output_type": "execute_result"
    }
   ],
   "source": [
    "data.head()"
   ]
  },
  {
   "cell_type": "code",
   "execution_count": 4,
   "metadata": {},
   "outputs": [],
   "source": [
    "data.columns = ['Restaurant_id', 'City', 'Cuisine_Style', 'Ranking', 'Rating',\n",
    "       'Price_Range', 'Number_of_Reviews', 'Reviews', 'URL_TA', 'ID_TA']"
   ]
  },
  {
   "cell_type": "code",
   "execution_count": 5,
   "metadata": {},
   "outputs": [
    {
     "data": {
      "text/plain": [
       "<AxesSubplot:>"
      ]
     },
     "execution_count": 5,
     "metadata": {},
     "output_type": "execute_result"
    },
    {
     "data": {
      "image/png": "[encoded data removed]",
      "text/plain": [
       "<Figure size 432x288 with 1 Axes>"
      ]
     },
     "metadata": {
      "needs_background": "light"
     },
     "output_type": "display_data"
    }
   ],
   "source": [
    "data.Ranking.hist(bins = 100)"
   ]
  },
  {
   "cell_type": "code",
   "execution_count": 6,
   "metadata": {},
   "outputs": [
    {
     "data": {
      "text/plain": [
       "<AxesSubplot:>"
      ]
     },
     "execution_count": 6,
     "metadata": {},
     "output_type": "execute_result"
    },
    {
     "data": {
      "image/png": "[encoded data removed]",
      "text/plain": [
       "<Figure size 432x288 with 1 Axes>"
      ]
     },
     "metadata": {
      "needs_background": "light"
     },
     "output_type": "display_data"
    }
   ],
   "source": [
    "data.City.value_counts(ascending=True).plot(kind='barh')"
   ]
  },
  {
   "cell_type": "code",
   "execution_count": 7,
   "metadata": {},
   "outputs": [
    {
     "data": {
      "text/plain": [
       "<AxesSubplot:>"
      ]
     },
     "execution_count": 7,
     "metadata": {},
     "output_type": "execute_result"
    },
    {
     "data": {
      "image/png": "[encoded data removed]",
      "text/plain": [
       "<Figure size 432x288 with 1 Axes>"
      ]
     },
     "metadata": {
      "needs_background": "light"
     },
     "output_type": "display_data"
    }
   ],
   "source": [
    "data.Rating.value_counts(ascending=True).plot(kind='barh')"
   ]
  },
  {
   "cell_type": "code",
   "execution_count": 8,
   "metadata": {},
   "outputs": [
    {
     "data": {
      "text/plain": [
       "<AxesSubplot:>"
      ]
     },
     "execution_count": 8,
     "metadata": {},
     "output_type": "execute_result"
    },
    {
     "data": {
      "image/png": "[encoded data removed]",
      "text/plain": [
       "<Figure size 432x288 with 1 Axes>"
      ]
     },
     "metadata": {
      "needs_background": "light"
     },
     "output_type": "display_data"
    }
   ],
   "source": [
    "data.Number_of_Reviews.hist(bins = 100)"
   ]
  },
  {
   "cell_type": "code",
   "execution_count": 9,
   "metadata": {},
   "outputs": [
    {
     "data": {
      "text/plain": [
       "Rome          116\n",
       "London        113\n",
       "Paris          58\n",
       "Milan          53\n",
       "Barcelona      49\n",
       "Prague         33\n",
       "Madrid         32\n",
       "Edinburgh      31\n",
       "Budapest       28\n",
       "Lisbon         26\n",
       "Amsterdam      22\n",
       "Berlin         20\n",
       "Dublin         14\n",
       "Brussels       10\n",
       "Vienna          9\n",
       "Oporto          9\n",
       "Athens          9\n",
       "Munich          8\n",
       "Stockholm       8\n",
       "Krakow          6\n",
       "Lyon            5\n",
       "Oslo            4\n",
       "Warsaw          4\n",
       "Geneva          2\n",
       "Helsinki        1\n",
       "Zurich          1\n",
       "Copenhagen      1\n",
       "Bratislava      1\n",
       "Name: City, dtype: int64"
      ]
     },
     "execution_count": 9,
     "metadata": {},
     "output_type": "execute_result"
    }
   ],
   "source": [
    "data[data.Number_of_Reviews > 1000].City.value_counts()"
   ]
  },
  {
   "cell_type": "code",
   "execution_count": 10,
   "metadata": {},
   "outputs": [
    {
     "name": "stdout",
     "output_type": "stream",
     "text": [
      "<class 'pandas.core.frame.DataFrame'>\n",
      "RangeIndex: 40000 entries, 0 to 39999\n",
      "Data columns (total 10 columns):\n",
      " #   Column             Non-Null Count  Dtype  \n",
      "---  ------             --------------  -----  \n",
      " 0   Restaurant_id      40000 non-null  object \n",
      " 1   City               40000 non-null  object \n",
      " 2   Cuisine_Style      30717 non-null  object \n",
      " 3   Ranking            40000 non-null  float64\n",
      " 4   Rating             40000 non-null  float64\n",
      " 5   Price_Range        26114 non-null  object \n",
      " 6   Number_of_Reviews  37457 non-null  float64\n",
      " 7   Reviews            40000 non-null  object \n",
      " 8   URL_TA             40000 non-null  object \n",
      " 9   ID_TA              40000 non-null  object \n",
      "dtypes: float64(3), object(7)\n",
      "memory usage: 3.1+ MB\n"
     ]
    }
   ],
   "source": [
    "data.info()"
   ]
  },
  {
   "cell_type": "markdown",
   "metadata": {},
   "source": [
    "#### Далее выделяем кухни для создания новых признаков"
   ]
  },
  {
   "cell_type": "code",
   "execution_count": 11,
   "metadata": {},
   "outputs": [],
   "source": [
    "cuisine_set = set()\n",
    "cuisine_list = []\n",
    "def cuisine_counter(cuisine_str):\n",
    "    cuisine = re.findall(\"\\w+\\s*\\w*\", cuisine_str)\n",
    "    for el in cuisine:\n",
    "        cuisine_list.append(el)"
   ]
  },
  {
   "cell_type": "code",
   "execution_count": 12,
   "metadata": {},
   "outputs": [],
   "source": [
    "new_data = data.Cuisine_Style.dropna(axis = 0).reset_index()\n",
    "for i in range(len(new_data)):\n",
    "    cuisine_counter(new_data.Cuisine_Style[i])\n",
    "    \n",
    "cuisine_list = sorted(cuisine_list)"
   ]
  },
  {
   "cell_type": "code",
   "execution_count": 13,
   "metadata": {},
   "outputs": [],
   "source": [
    "counter = 1\n",
    "max_val = 0\n",
    "cousine = ''\n",
    "new_cousine = []\n",
    "\n",
    "for i in range(len(cuisine_list) - 1):\n",
    "    if cuisine_list[i] == cuisine_list[i+1]:\n",
    "        counter += 1\n",
    "    else:\n",
    "        if counter > max_val:\n",
    "            max_val = counter\n",
    "            counter = 1\n",
    "            cousine = cuisine_list[i]\n",
    "        new_cousine.append(cuisine_list[i])\n",
    "\n",
    "if cuisine_list[len(cuisine_list)-1] not in new_cousine:\n",
    "    new_cousine.append(cuisine_list[len(cuisine_list)-1])"
   ]
  },
  {
   "cell_type": "code",
   "execution_count": 14,
   "metadata": {},
   "outputs": [
    {
     "data": {
      "text/plain": [
       "['Afghani',\n",
       " 'African',\n",
       " 'Albanian',\n",
       " 'American',\n",
       " 'Arabic',\n",
       " 'Argentinean',\n",
       " 'Armenian',\n",
       " 'Asian',\n",
       " 'Australian',\n",
       " 'Austrian',\n",
       " 'Azerbaijani',\n",
       " 'Balti',\n",
       " 'Bangladeshi',\n",
       " 'Bar',\n",
       " 'Barbecue',\n",
       " 'Belgian',\n",
       " 'Brazilian',\n",
       " 'Brew Pub',\n",
       " 'British',\n",
       " 'Burmese',\n",
       " 'Cafe',\n",
       " 'Cajun ',\n",
       " 'Cambodian',\n",
       " 'Canadian',\n",
       " 'Caribbean',\n",
       " 'Caucasian',\n",
       " 'Central American',\n",
       " 'Central Asian',\n",
       " 'Central European',\n",
       " 'Chilean',\n",
       " 'Chinese',\n",
       " 'Colombian',\n",
       " 'Contemporary',\n",
       " 'Creole',\n",
       " 'Croatian',\n",
       " 'Cuban',\n",
       " 'Czech',\n",
       " 'Danish',\n",
       " 'Delicatessen',\n",
       " 'Diner',\n",
       " 'Dutch',\n",
       " 'Eastern European',\n",
       " 'Ecuadorean',\n",
       " 'Egyptian',\n",
       " 'Ethiopian',\n",
       " 'European',\n",
       " 'Fast Food',\n",
       " 'Filipino',\n",
       " 'French',\n",
       " 'Fujian',\n",
       " 'Fusion',\n",
       " 'Gastropub',\n",
       " 'Georgian',\n",
       " 'German',\n",
       " 'Gluten Free',\n",
       " 'Greek',\n",
       " 'Grill',\n",
       " 'Halal',\n",
       " 'Hawaiian',\n",
       " 'Healthy',\n",
       " 'Hungarian',\n",
       " 'Indian',\n",
       " 'Indonesian',\n",
       " 'International',\n",
       " 'Irish',\n",
       " 'Israeli',\n",
       " 'Italian',\n",
       " 'Jamaican',\n",
       " 'Japanese',\n",
       " 'Korean',\n",
       " 'Kosher',\n",
       " 'Latin',\n",
       " 'Latvian',\n",
       " 'Lebanese',\n",
       " 'Malaysian',\n",
       " 'Mediterranean',\n",
       " 'Mexican',\n",
       " 'Middle Eastern',\n",
       " 'Minority Chinese',\n",
       " 'Mongolian',\n",
       " 'Moroccan',\n",
       " 'Native American',\n",
       " 'Nepali',\n",
       " 'New Zealand',\n",
       " 'Norwegian',\n",
       " 'Options',\n",
       " 'Pakistani',\n",
       " 'Persian',\n",
       " 'Peruvian',\n",
       " 'Pizza',\n",
       " 'Polish',\n",
       " 'Polynesian',\n",
       " 'Portuguese',\n",
       " 'Pub',\n",
       " 'Romanian',\n",
       " 'Russian',\n",
       " 'Salvadoran',\n",
       " 'Scandinavian',\n",
       " 'Scottish',\n",
       " 'Seafood',\n",
       " 'Singaporean',\n",
       " 'Slovenian',\n",
       " 'Soups',\n",
       " 'South American',\n",
       " 'Southwestern',\n",
       " 'Spanish',\n",
       " 'Sri Lankan',\n",
       " 'Steakhouse',\n",
       " 'Street Food',\n",
       " 'Sushi',\n",
       " 'Swedish',\n",
       " 'Swiss',\n",
       " 'Taiwanese',\n",
       " 'Thai',\n",
       " 'Tibetan',\n",
       " 'Tunisian',\n",
       " 'Turkish',\n",
       " 'Ukrainian',\n",
       " 'Uzbek',\n",
       " 'Vegan Options',\n",
       " 'Vegetarian Friendly',\n",
       " 'Venezuelan',\n",
       " 'Vietnamese',\n",
       " 'Welsh',\n",
       " 'Wine Bar',\n",
       " 'Xinjiang',\n",
       " 'Yunnan']"
      ]
     },
     "execution_count": 14,
     "metadata": {},
     "output_type": "execute_result"
    }
   ],
   "source": [
    "new_cousine"
   ]
  },
  {
   "cell_type": "code",
   "execution_count": 15,
   "metadata": {},
   "outputs": [
    {
     "data": {
      "text/plain": [
       "0                  ['European', 'French', 'International']\n",
       "1                                                      NaN\n",
       "2        ['Japanese', 'Sushi', 'Asian', 'Grill', 'Veget...\n",
       "3                                                      NaN\n",
       "4        ['German', 'Central European', 'Vegetarian Fri...\n",
       "                               ...                        \n",
       "39995    ['Italian', 'Vegetarian Friendly', 'Vegan Opti...\n",
       "39996    ['French', 'American', 'Bar', 'European', 'Veg...\n",
       "39997                                ['Japanese', 'Sushi']\n",
       "39998    ['Polish', 'European', 'Eastern European', 'Ce...\n",
       "39999                                          ['Spanish']\n",
       "Name: Cuisine_Style, Length: 40000, dtype: object"
      ]
     },
     "execution_count": 15,
     "metadata": {},
     "output_type": "execute_result"
    }
   ],
   "source": [
    "data.Cuisine_Style"
   ]
  },
  {
   "cell_type": "code",
   "execution_count": 16,
   "metadata": {},
   "outputs": [
    {
     "name": "stderr",
     "output_type": "stream",
     "text": [
      "C:\\Users\\Asus\\Documents\\studying\\All_for_IT\\Anaconda\\lib\\site-packages\\pandas\\core\\indexing.py:670: SettingWithCopyWarning: \n",
      "A value is trying to be set on a copy of a slice from a DataFrame\n",
      "\n",
      "See the caveats in the documentation: https://pandas.pydata.org/pandas-docs/stable/user_guide/indexing.html#returning-a-view-versus-a-copy\n",
      "  iloc._setitem_with_indexer(indexer, value)\n"
     ]
    }
   ],
   "source": [
    "for cuisine in new_cousine:\n",
    "    data[cuisine] = 0\n",
    "    for i in range(40000):\n",
    "        if type(data.Cuisine_Style.iloc[i]) == float:\n",
    "            continue\n",
    "        if cuisine in data.Cuisine_Style.iloc[i]:\n",
    "            data[cuisine].iloc[i] = 1"
   ]
  },
  {
   "cell_type": "code",
   "execution_count": 17,
   "metadata": {},
   "outputs": [
    {
     "name": "stdout",
     "output_type": "stream",
     "text": [
      "<class 'pandas.core.frame.DataFrame'>\n",
      "RangeIndex: 40000 entries, 0 to 39999\n",
      "Columns: 137 entries, Restaurant_id to Yunnan\n",
      "dtypes: float64(3), int64(127), object(7)\n",
      "memory usage: 41.8+ MB\n"
     ]
    }
   ],
   "source": [
    "data.info()"
   ]
  },
  {
   "cell_type": "markdown",
   "metadata": {},
   "source": [
    "#### Cuisine_avg - признак, отвечающий сколько у нас кухонь в среднем"
   ]
  },
  {
   "cell_type": "code",
   "execution_count": 18,
   "metadata": {},
   "outputs": [],
   "source": [
    "def Cusine_counter(cuisine_list):\n",
    "    counter = 0\n",
    "    for sym in cuisine_list:\n",
    "        if sym == ',':\n",
    "            counter += 1\n",
    "    return counter + 1\n",
    "\n",
    "\n",
    "data['Cuisine_avg'] = data.Cuisine_Style.dropna(axis=0).apply(Cusine_counter)"
   ]
  },
  {
   "cell_type": "code",
   "execution_count": 19,
   "metadata": {},
   "outputs": [],
   "source": [
    "data.Cuisine_avg = data.Cuisine_avg.fillna(1)"
   ]
  },
  {
   "cell_type": "markdown",
   "metadata": {},
   "source": [
    "#### Last_Review - признак, показывающий дату последнего отзыва"
   ]
  },
  {
   "cell_type": "code",
   "execution_count": 20,
   "metadata": {},
   "outputs": [],
   "source": [
    "def LastReviewTime(RewStr):\n",
    "    new_time = []\n",
    "    time_list = re.findall(r'\\d+/\\d+/\\d+', RewStr)\n",
    "\n",
    "    for time in time_list:\n",
    "        try:\n",
    "            datestr = datetime.strptime(time, '%m/%d/%Y')\n",
    "        except:\n",
    "            datestr = datetime.strptime(time, '%d/%m/%Y')\n",
    "        new_time.append(datestr)\n",
    "   \n",
    "    if len (new_time) > 0:\n",
    "        MaxTime = max(new_time)\n",
    "        return datetime.strftime(MaxTime, '%Y-%m-%d')\n",
    "    return None"
   ]
  },
  {
   "cell_type": "code",
   "execution_count": 21,
   "metadata": {},
   "outputs": [],
   "source": [
    "data['Last_Review'] = data.Reviews.apply(LastReviewTime)"
   ]
  },
  {
   "cell_type": "markdown",
   "metadata": {},
   "source": [
    "#### ReviewDist - признак, обозначающий количество времени, прошедшего между 1 и последним отзывами"
   ]
  },
  {
   "cell_type": "code",
   "execution_count": 22,
   "metadata": {},
   "outputs": [],
   "source": [
    "def ReviewDist(RewStr):\n",
    "    new_time = []\n",
    "    time_list = re.findall(r'\\d+/\\d+/\\d+', RewStr)\n",
    "\n",
    "    for time in time_list:\n",
    "        try:\n",
    "            datestr = datetime.strptime(time, '%m/%d/%Y')\n",
    "        except:\n",
    "            datestr = datetime.strptime(time, '%d/%m/%Y')\n",
    "        new_time.append(datestr)\n",
    "        \n",
    "    if len(new_time) == 2:\n",
    "        return abs((new_time[0] - new_time[1]).days)\n",
    "    elif len(new_time) == 3:\n",
    "        return max(abs((new_time[0] - new_time[1]).days), abs((new_time[0] - new_time[2]).days), (new_time[2] - new_time[1]).days)\n",
    "    return 0"
   ]
  },
  {
   "cell_type": "code",
   "execution_count": 23,
   "metadata": {},
   "outputs": [],
   "source": [
    "data['ReviewDist'] = data.Reviews.apply(ReviewDist)"
   ]
  },
  {
   "cell_type": "code",
   "execution_count": 24,
   "metadata": {},
   "outputs": [],
   "source": [
    "data = pd.concat([data, pd.get_dummies(data.City)], axis = 1)"
   ]
  },
  {
   "cell_type": "markdown",
   "metadata": {},
   "source": [
    "#### ReviewDaysPassed - признак, обозначающий сколько дней прошло с последнего отзыва"
   ]
  },
  {
   "cell_type": "code",
   "execution_count": 25,
   "metadata": {},
   "outputs": [],
   "source": [
    "def ReviewDaysPassed(DateStr):\n",
    "    try:\n",
    "        DateStr = datetime.strptime(DateStr, '%Y-%m-%d')\n",
    "        today = datetime.today()\n",
    "        return (today - DateStr).days\n",
    "    except:\n",
    "        return None"
   ]
  },
  {
   "cell_type": "code",
   "execution_count": 26,
   "metadata": {},
   "outputs": [],
   "source": [
    "data['ReviewDaysPassed'] = data.Last_Review.apply(ReviewDaysPassed)"
   ]
  },
  {
   "cell_type": "code",
   "execution_count": 27,
   "metadata": {},
   "outputs": [],
   "source": [
    "mean_days = round(data['ReviewDaysPassed'].mean())\n",
    "data['ReviewDaysPassed'] = data['ReviewDaysPassed'].fillna(mean_days)"
   ]
  },
  {
   "cell_type": "markdown",
   "metadata": {},
   "source": [
    "#### добавляем One-Hot Encoding для цен"
   ]
  },
  {
   "cell_type": "code",
   "execution_count": 28,
   "metadata": {},
   "outputs": [],
   "source": [
    "price = pd.get_dummies(data.Price_Range, dummy_na=True)"
   ]
  },
  {
   "cell_type": "code",
   "execution_count": 29,
   "metadata": {},
   "outputs": [],
   "source": [
    "data = pd.concat([data, price], axis = 1)"
   ]
  },
  {
   "cell_type": "code",
   "execution_count": 30,
   "metadata": {},
   "outputs": [],
   "source": [
    "RaitCorr = data.corr().Rating"
   ]
  },
  {
   "cell_type": "code",
   "execution_count": 31,
   "metadata": {},
   "outputs": [
    {
     "data": {
      "text/plain": [
       "1"
      ]
     },
     "execution_count": 31,
     "metadata": {},
     "output_type": "execute_result"
    }
   ],
   "source": [
    "abs(RaitCorr > 0.5).sum()"
   ]
  },
  {
   "cell_type": "code",
   "execution_count": 32,
   "metadata": {},
   "outputs": [],
   "source": [
    "X = data.drop(['City', 'Cuisine_Style', 'Price_Range', 'Reviews', 'URL_TA', 'ID_TA'], axis = 1)"
   ]
  },
  {
   "cell_type": "code",
   "execution_count": 33,
   "metadata": {},
   "outputs": [],
   "source": [
    "mean_nor = X['Number_of_Reviews'].mean()\n",
    "X['Number_of_Reviews'] = X['Number_of_Reviews'].fillna(mean_nor)"
   ]
  },
  {
   "cell_type": "markdown",
   "metadata": {},
   "source": [
    "# Разбиваем датафрейм на части, необходимые для обучения и тестирования модели"
   ]
  },
  {
   "cell_type": "code",
   "execution_count": 34,
   "metadata": {},
   "outputs": [],
   "source": [
    "# Х - данные с информацией о ресторанах, у - целевая переменная (рейтинги ресторанов)\n",
    "X = X.drop(['Restaurant_id', 'Rating', 'Last_Review'], axis = 1)\n",
    "y = data['Rating']"
   ]
  },
  {
   "cell_type": "code",
   "execution_count": 35,
   "metadata": {},
   "outputs": [],
   "source": [
    "# Загружаем специальный инструмент для разбивки:\n",
    "from sklearn.model_selection import train_test_split"
   ]
  },
  {
   "cell_type": "code",
   "execution_count": 36,
   "metadata": {},
   "outputs": [],
   "source": [
    "# Наборы данных с меткой \"train\" будут использоваться для обучения модели, \"test\" - для тестирования.\n",
    "# Для тестирования мы будем использовать 25% от исходного датасета.\n",
    "X_train, X_test, y_train, y_test = train_test_split(X, y, test_size=0.25)"
   ]
  },
  {
   "cell_type": "markdown",
   "metadata": {},
   "source": [
    "# Создаём, обучаем и тестируем модель"
   ]
  },
  {
   "cell_type": "code",
   "execution_count": 37,
   "metadata": {},
   "outputs": [],
   "source": [
    "# Импортируем необходимые библиотеки:\n",
    "from sklearn.ensemble import RandomForestRegressor # инструмент для создания и обучения модели\n",
    "from sklearn import metrics # инструменты для оценки точности модели"
   ]
  },
  {
   "cell_type": "code",
   "execution_count": 38,
   "metadata": {},
   "outputs": [],
   "source": [
    "# Создаём модель\n",
    "regr = RandomForestRegressor(n_estimators=100)\n",
    "\n",
    "# Обучаем модель на тестовом наборе данных\n",
    "regr.fit(X_train, y_train)\n",
    "\n",
    "# Используем обученную модель для предсказания рейтинга ресторанов в тестовой выборке.\n",
    "# Предсказанные значения записываем в переменную y_pred\n",
    "y_pred = regr.predict(X_test)"
   ]
  },
  {
   "cell_type": "code",
   "execution_count": 39,
   "metadata": {},
   "outputs": [
    {
     "name": "stdout",
     "output_type": "stream",
     "text": [
      "MAE: 0.21782799999999997\n"
     ]
    }
   ],
   "source": [
    "# Сравниваем предсказанные значения (y_pred) с реальными (y_test), и смотрим насколько они в среднем отличаются\n",
    "# Метрика называется Mean Absolute Error (MAE) и показывает среднее отклонение предсказанных значений от фактических.\n",
    "print('MAE:', metrics.mean_absolute_error(y_test, y_pred))"
   ]
  },
  {
   "cell_type": "code",
   "execution_count": null,
   "metadata": {},
   "outputs": [],
   "source": []
  }
 ],
 "metadata": {
  "kernelspec": {
   "display_name": "Python 3",
   "language": "python",
   "name": "python3"
  },
  "language_info": {
   "codemirror_mode": {
    "name": "ipython",
    "version": 3
   },
   "file_extension": ".py",
   "mimetype": "text/x-python",
   "name": "python",
   "nbconvert_exporter": "python",
   "pygments_lexer": "ipython3",
   "version": "3.8.5"
  }
 },
 "nbformat": 4,
 "nbformat_minor": 2
}
